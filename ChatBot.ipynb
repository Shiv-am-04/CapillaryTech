{
 "cells": [
  {
   "cell_type": "code",
   "execution_count": 1,
   "id": "3d64e59d",
   "metadata": {},
   "outputs": [],
   "source": [
    "import os\n",
    "from dotenv import load_dotenv"
   ]
  },
  {
   "cell_type": "code",
   "execution_count": 2,
   "id": "7dbd622a",
   "metadata": {},
   "outputs": [
    {
     "data": {
      "text/plain": [
       "True"
      ]
     },
     "execution_count": 2,
     "metadata": {},
     "output_type": "execute_result"
    }
   ],
   "source": [
    "load_dotenv()"
   ]
  },
  {
   "cell_type": "code",
   "execution_count": 3,
   "id": "8bcbd6e2",
   "metadata": {},
   "outputs": [],
   "source": [
    "groq_api_key = os.getenv(\"GROQ_API_KEY\")\n",
    "gemini_api_key = os.getenv(\"GEMINI_API_KEY\")"
   ]
  },
  {
   "cell_type": "markdown",
   "id": "67e02d4a",
   "metadata": {},
   "source": [
    "#### *document preprocessing*"
   ]
  },
  {
   "cell_type": "code",
   "execution_count": 4,
   "id": "bb212193",
   "metadata": {},
   "outputs": [],
   "source": [
    "from langchain.document_loaders import TextLoader\n",
    "\n",
    "loader = TextLoader('extracted_content.txt',encoding='utf-8')"
   ]
  },
  {
   "cell_type": "code",
   "execution_count": 5,
   "id": "eb918251",
   "metadata": {},
   "outputs": [],
   "source": [
    "docs = loader.load()"
   ]
  },
  {
   "cell_type": "code",
   "execution_count": 6,
   "id": "b0678019",
   "metadata": {},
   "outputs": [],
   "source": [
    "from langchain_text_splitters import RecursiveCharacterTextSplitter\n",
    "\n",
    "splitter = RecursiveCharacterTextSplitter(chunk_size=1000,chunk_overlap=100)\n",
    "\n",
    "docs = splitter.split_documents(docs)"
   ]
  },
  {
   "cell_type": "code",
   "execution_count": 7,
   "id": "6a8da0b6",
   "metadata": {},
   "outputs": [
    {
     "data": {
      "text/plain": [
       "[Document(metadata={'source': 'extracted_content.txt'}, page_content='At Capillary, we offer AI-based cloud-native SaaS products and solutions such as automated loyalty management and consumer data platform. Our diverse product range enables you to manage end-to-end loyalty programs, gain a comprehensive view of your consumers, and offer unified, cross-channel strategies that provide consumers with real-time, omnichannel, personalized, and consistent experience.\\n\\nLoyalty+ - Lets you increase repeat sales with personalized, omnichannel loyalty programs by intelligently rewarding your customers for desired behavior. Know more details.\\nEngage+ - This allows you to personalize customer engagement with omnichannel retail marketing solutions.\\nCustomer Data Platform (CDP): An effective platform to ingest data from different sources and platforms. There are several products to help capture brand data from different sources. Know more details.\\nInsights+ - Provides you with profitable insights with AI-powered customer analytics. Know more details.'),\n",
       " Document(metadata={'source': 'extracted_content.txt'}, page_content='Updated 3 months ago\\n\\nAccessing Capillary\\nDid this page help you?\\nYes\\nNo\\nAt Capillary, we offer AI-based cloud-native SaaS products and solutions such as automated loyalty management and consumer data platform. Our diverse product range enables you to manage end-to-end loyalty programs, gain a comprehensive view of your consumers, and offer unified, cross-channel strategies that provide consumers with real-time, omnichannel, personalized, and consistent experience.'),\n",
       " Document(metadata={'source': 'extracted_content.txt'}, page_content='Loyalty+ - Lets you increase repeat sales with personalized, omnichannel loyalty programs by intelligently rewarding your customers for desired behavior. Know more details.\\nEngage+ - This allows you to personalize customer engagement with omnichannel retail marketing solutions.\\nCustomer Data Platform (CDP): An effective platform to ingest data from different sources and platforms. There are several products to help capture brand data from different sources. Know more details.\\nInsights+ - Provides you with profitable insights with AI-powered customer analytics. Know more details.'),\n",
       " Document(metadata={'source': 'extracted_content.txt'}, page_content='Updated 3 months ago\\nAt Capillary, we offer AI-based cloud-native SaaS products and solutions such as automated loyalty management and consumer data platform. Our diverse product range enables you to manage end-to-end loyalty programs, gain a comprehensive view of your consumers, and offer unified, cross-channel strategies that provide consumers with real-time, omnichannel, personalized, and consistent experience.'),\n",
       " Document(metadata={'source': 'extracted_content.txt'}, page_content='Loyalty+ - Lets you increase repeat sales with personalized, omnichannel loyalty programs by intelligently rewarding your customers for desired behavior. Know more details.\\nEngage+ - This allows you to personalize customer engagement with omnichannel retail marketing solutions.\\nCustomer Data Platform (CDP): An effective platform to ingest data from different sources and platforms. There are several products to help capture brand data from different sources. Know more details.\\nInsights+ - Provides you with profitable insights with AI-powered customer analytics. Know more details.\\n\\nUpdated 3 months ago\\n\\nAccessing Capillary\\nDid this page help you?\\nYes\\nNo\\nInTouch is deployed in different clusters. Before accessing InTouch, you need to know the cluster of your org and login credentials provided by Capillary.\\n\\nThe following are the links to different clusters of InTouch:'),\n",
       " Document(metadata={'source': 'extracted_content.txt'}, page_content=\"The following are the links to different clusters of InTouch:\\n\\nEU: https://eu.intouch.capillarytech.com\\nIndia: https://intouch.capillary.co.in\\nAPAC2: https://apac2.intouch.capillarytech.com/\\nSG: https://sgcrm.cc.capillarytech.com/\\nCN: http://intouch.capillarytech.cn.com/\\nUS: https://us.intouch.capillarytech.com/ & https://north-america.intouch.capillarytech.com\\n\\nYou can access InTouch in three different ways:\\n\\nUsing Capillary InTouch email Id and Password\\nUsing Capillary's Official Google account credentials\\nUsing SSO\\n\\nYou can also enable two-factor authentication (MFA) for your org. To enable this, raise a JIRA ticket with the Capillary Product Support team. If SSO is enabled, Two-factor authentication will not be considered.\\n\\nLogin with Capillary Credentials\"),\n",
       " Document(metadata={'source': 'extracted_content.txt'}, page_content='Login with Capillary Credentials\\n\\nGet Started with Capillary InTouch! InTouch is a cloud-based platform that contains the entire product modules, including Organization settings and Workbench. InTouch can be accessed by all authorized users and brands. There are several user roles on InTouch and access is managed at the page level. Not everyone will have write access or access to all modules. Super Admins will provide access to users based on their role and scope.\\n\\nEnter the credentials provided by Capillary in Email Id and Password then click on Sign in.\\n\\nLogin with Capillary Google account\\n\\nYou can now sign in to InTouch using your Capillary Google Workspace account.\\nThat means:\\n\\nNo need to remember your Intouch password anymore\\nNo more Intouch password reset every month\\nConvenience and security\\nPrerequisite\\n\\nYou should have a Capillary Google Workspace account (e-mail address with domain capillarytech.com)'),\n",
       " Document(metadata={'source': 'extracted_content.txt'}, page_content='Login with Google Credentials\\nIn a browser, open the URL of your cluster.\\nEU Cluster - https://eu.intouch.capillarytech.com/auth/login\\nSG Cluster - https://apac2.intouch.capillarytech.com/auth/login\\nIndia Cluster - https://intouch.capillary.co.in/auth/login\\nClick on Sign in with Google as shown below.\\nEnter the email ID your Capillary Google Workspace account and click Next.\\nEnter your password and click Next.\\n\\nYou will see Intouch Workbench. If you have already signed in to your Capillary Google Workspace account, you will directly see the Workbech page.\\n\\nLogin with SSO\\n\\nSign in with a single set of credentials used for multiple applications provided by third party like Microsoft ADFS, G Suite SAML. It allows brand users to login to Capillary Intouch using their Identity Provider (IdP).\\n\\nSetup SSO with Okta\\nWe have partnered with Okta for the integration. SSO setup requires configuring a connection for Capillary in Org’s IdP and setting up Org’s Identity in Okta Admin Console.'),\n",
       " Document(metadata={'source': 'extracted_content.txt'}, page_content='To set up SSO with Okta, follow these steps.\\n\\nStep 1 - Set up a connection for Capillary in Org’s IdP\\n\\nCapillary PoC has to send an email to the Capillary access team with a request to set up SSO for the organization providing the following information.\\n\\nOrganization name and ID\\n\\nEmail domain of the organization. For example, the domain is org.com if the Email Id is abc@org.com\\n\\nCapillary Access team will share the following information, which should be shared with the org PoC\\n\\nAssertion Consumer Service (ACS) URL.\\n\\nService Provider (SP) Entity ID or Audience URL or Entity ID.\\n\\nUser profile attributes need to be passed as SAML assertion - email, first name, and last name. Email ID mandatory.\\n\\n[Optional] Attribute that defines if the user has access to Capillary. For example, group, organization. This is required if the org wants to define which employees have access to Capillary.'),\n",
       " Document(metadata={'source': 'extracted_content.txt'}, page_content='Org PoC will use the above information to create a connection for Capillary in their IdP and respond with the following information.\\n\\nIdentity Provider SSO URL.\\n\\nIdentity Provider Entity ID.\\n\\nIdentity Provider Certificate signature.\\n\\nTo know about the SAML terminologies, read How SAML works?\\n\\nStep 2 - Setting up Identity Provider in Capillary\\n\\nCapillary or Org PoC will share the information provided in step 1.3 (above) with the Capillary Access team.\\n\\nCapillary Access team will add an Identity Provider in Okta Admin Console and respond with setup confirmation.\\n\\nStep 3 - Provide Capillary application’s access to Org users\\n\\nUse Data Import to add Org users to the Capillary application with the appropriate access level.\\n\\nWhen you add users on InTouch, a verification email is sent along with the password setup link. The required change to disable the step is in progress and will be released soon. Until then, only Data Import to add Org users.\\n\\nStep 4 - Authenticate with Single Sign-on'),\n",
       " Document(metadata={'source': 'extracted_content.txt'}, page_content='Step 4 - Authenticate with Single Sign-on\\n\\nOnce setup is completed, the org users can authenticate using SSO as explained in the following steps.\\n\\nOn the new sign-in page, click Sign in with SSO.\\n\\nIn Username, enter a valid email address and click Next.\\nYou are redirected to the Identity provider’s page to complete authentication.\\nOn the Identity Provider’s page, enter your registered email address, password, and click Sign in.\\n\\nWhen the login is successful, you will see the InTouch home page.\\n\\nConfiguring two-factor authentication (MFA)\\n\\nTo enable two-factor authentication, raise a JIRA ticket with the Capillary Product Support team. If SSO is enabled, two-factor authentication will not be required.\\n\\nTo configure the two-factor authentication settings, follow these steps:\\n\\nNavigate to Intouch > Organization Setup > Authentication Configurations.'),\n",
       " Document(metadata={'source': 'extracted_content.txt'}, page_content=\"Navigate to Intouch > Organization Setup > Authentication Configurations.\\n\\nIn the Validity Period For 2 Factor Authentication (in days) field, define how long a user's 2FA authentication remains valid before they need to re-authenticate using 2FA. Example: If set to 1 day, a user who logs in with 2FA today won't need to go through 2FA again for the next 24 hours. The maximum number of days that you can set is 90.\\n\\nIn the Validity Period For OTP Expiration (in minutes) field, define how long a One-Time Password (OTP) remains valid before it expires. Example: If set to 15 minutes, an OTP sent to a user's email or phone will expire after 15 minutes if not used. The maximum allowed time is 15 minutes.\"),\n",
       " Document(metadata={'source': 'extracted_content.txt'}, page_content=\"In the Validity Period For Login Session (in hours) field, define how long a user's login session remains active before they are automatically logged out due to inactivity. Example: If set to 24 hours, a user who logs in will remain logged in for 24 hours unless they manually log out or the session expires due to inactivity. The maximum allowed time is 24 hours.\\n\\nUpdated 2 months ago\\n\\nIntroduction\\nHome page tour\\nDid this page help you?\\nYes\\nNo\\nPost login, you will see a Home page. The Home page consists of several elements to help you find the key information about your products, programs, and links to product pages, tickets, support documentation, Capillary Academy, and much more.\\n\\nThe following sections provide detailed information on each section of the Home Page.\\n\\nGet Started\\n\\nThis section helps you get started with Capillary products. It provides useful links to relevant documentation or support content.\\n\\nExplore Features\"),\n",
       " Document(metadata={'source': 'extracted_content.txt'}, page_content='Explore Features\\n\\nThis section provides links to powerful features across Capillary products. They could be major features that were launched recently or even some of the interesting older features.\\n\\nLoyalty suggestions\\n\\nThis section provides loyalty nudges, which help in taking the right actions for your loyalty programs. These are the same nudges that you see on the Loyalty+ landing page. Having them on the home page provides better accessibility to nudges.\\n\\nPerformance\\n\\nThis section shows the top level stats of the value delivered from the products. These are the same stats that you would see in the Loyalty+ and Engage+ landing pages.\\n\\nQuick links\\n\\nThis section provides links to live campaigns, Loyalty Programs, Member Care customer requests, and SMS credits view.\\n\\nHelp links\\n\\nThis section provides links to the support content. You can find links to access support documentation, tickets, and Capillary Academy.\\n\\nAccess products/Workbench'),\n",
       " Document(metadata={'source': 'extracted_content.txt'}, page_content='Access products/Workbench\\n\\nYou can access all the products like Loyalty+, Member Care, Insights+, and Workbench on the home page. Navigate to Select Product menu and select the desired option.\\n\\nUpdated 8 months ago\\n\\nAccessing Capillary\\nIntroduction to Engage+\\nDid this page help you?\\nYes\\nNo')]"
      ]
     },
     "execution_count": 7,
     "metadata": {},
     "output_type": "execute_result"
    }
   ],
   "source": [
    "docs"
   ]
  },
  {
   "cell_type": "markdown",
   "id": "22ca2d29",
   "metadata": {},
   "source": [
    "#### *vectorDB and retriever*"
   ]
  },
  {
   "cell_type": "code",
   "execution_count": 8,
   "id": "ba333c42",
   "metadata": {},
   "outputs": [
    {
     "name": "stderr",
     "output_type": "stream",
     "text": [
      "c:\\Users\\SHIVAM GHUGE\\AppData\\Local\\Programs\\Python\\Python311\\Lib\\site-packages\\sentence_transformers\\cross_encoder\\CrossEncoder.py:13: TqdmExperimentalWarning: Using `tqdm.autonotebook.tqdm` in notebook mode. Use `tqdm.tqdm` instead to force console mode (e.g. in jupyter console)\n",
      "  from tqdm.autonotebook import tqdm, trange\n"
     ]
    },
    {
     "name": "stdout",
     "output_type": "stream",
     "text": [
      "WARNING:tensorflow:From c:\\Users\\SHIVAM GHUGE\\AppData\\Local\\Programs\\Python\\Python311\\Lib\\site-packages\\tf_keras\\src\\losses.py:2976: The name tf.losses.sparse_softmax_cross_entropy is deprecated. Please use tf.compat.v1.losses.sparse_softmax_cross_entropy instead.\n",
      "\n"
     ]
    },
    {
     "name": "stderr",
     "output_type": "stream",
     "text": [
      "c:\\Users\\SHIVAM GHUGE\\AppData\\Local\\Programs\\Python\\Python311\\Lib\\site-packages\\transformers\\tokenization_utils_base.py:1601: FutureWarning: `clean_up_tokenization_spaces` was not set. It will be set to `True` by default. This behavior will be depracted in transformers v4.45, and will be then set to `False` by default. For more details check this issue: https://github.com/huggingface/transformers/issues/31884\n",
      "  warnings.warn(\n"
     ]
    }
   ],
   "source": [
    "from langchain_huggingface import HuggingFaceEmbeddings\n",
    "\n",
    "embeddings = HuggingFaceEmbeddings(model_name=\"sentence-transformers/all-MiniLM-L6-v2\")"
   ]
  },
  {
   "cell_type": "code",
   "execution_count": 9,
   "id": "b4417097",
   "metadata": {},
   "outputs": [],
   "source": [
    "from langchain_chroma import Chroma\n",
    "\n",
    "vectordb = Chroma.from_documents(documents=docs,embedding=embeddings)"
   ]
  },
  {
   "cell_type": "code",
   "execution_count": 10,
   "id": "ff8ed633",
   "metadata": {},
   "outputs": [],
   "source": [
    "retriever = vectordb.as_retriever(\n",
    "    search_kwargs = {'k':4}\n",
    ")"
   ]
  },
  {
   "cell_type": "markdown",
   "id": "54f7588d",
   "metadata": {},
   "source": [
    "#### *Gemini model and Response*"
   ]
  },
  {
   "cell_type": "code",
   "execution_count": 11,
   "id": "d8a37e49",
   "metadata": {},
   "outputs": [],
   "source": [
    "import google.generativeai as genai\n",
    "\n",
    "genai.configure(api_key=gemini_api_key)"
   ]
  },
  {
   "cell_type": "code",
   "execution_count": 12,
   "id": "5e968500",
   "metadata": {},
   "outputs": [
    {
     "name": "stdout",
     "output_type": "stream",
     "text": [
      "models/gemini-1.0-pro-vision-latest\n",
      "models/gemini-pro-vision\n",
      "models/gemini-1.5-pro-latest\n",
      "models/gemini-1.5-pro-001\n",
      "models/gemini-1.5-pro-002\n",
      "models/gemini-1.5-pro\n",
      "models/gemini-1.5-flash-latest\n",
      "models/gemini-1.5-flash-001\n",
      "models/gemini-1.5-flash-001-tuning\n",
      "models/gemini-1.5-flash\n",
      "models/gemini-1.5-flash-002\n",
      "models/gemini-1.5-flash-8b\n",
      "models/gemini-1.5-flash-8b-001\n",
      "models/gemini-1.5-flash-8b-latest\n",
      "models/gemini-1.5-flash-8b-exp-0827\n",
      "models/gemini-1.5-flash-8b-exp-0924\n",
      "models/gemini-2.5-pro-exp-03-25\n",
      "models/gemini-2.5-pro-preview-03-25\n",
      "models/gemini-2.0-flash-exp\n",
      "models/gemini-2.0-flash\n",
      "models/gemini-2.0-flash-001\n",
      "models/gemini-2.0-flash-exp-image-generation\n",
      "models/gemini-2.0-flash-lite-001\n",
      "models/gemini-2.0-flash-lite\n",
      "models/gemini-2.0-flash-lite-preview-02-05\n",
      "models/gemini-2.0-flash-lite-preview\n",
      "models/gemini-2.0-pro-exp\n",
      "models/gemini-2.0-pro-exp-02-05\n",
      "models/gemini-exp-1206\n",
      "models/gemini-2.0-flash-thinking-exp-01-21\n",
      "models/gemini-2.0-flash-thinking-exp\n",
      "models/gemini-2.0-flash-thinking-exp-1219\n",
      "models/learnlm-1.5-pro-experimental\n",
      "models/gemma-3-1b-it\n",
      "models/gemma-3-4b-it\n",
      "models/gemma-3-12b-it\n",
      "models/gemma-3-27b-it\n"
     ]
    }
   ],
   "source": [
    "for model in genai.list_models():\n",
    "    if 'generateContent' in model.supported_generation_methods:\n",
    "        print(model.name)"
   ]
  },
  {
   "cell_type": "code",
   "execution_count": 13,
   "id": "e3c7d464",
   "metadata": {},
   "outputs": [],
   "source": [
    "config = genai.GenerationConfig(temperature=0.6)\n",
    "\n",
    "model = genai.GenerativeModel(model_name=\"gemini-1.5-flash\",generation_config=config)"
   ]
  },
  {
   "cell_type": "code",
   "execution_count": 14,
   "id": "7a50749f",
   "metadata": {},
   "outputs": [],
   "source": [
    "def get_prompt(context,question):\n",
    "    prompt = f'''\n",
    "        You are an intelligent virtual assistant with expertise in understanding and processing documentation across various domains. \n",
    "        Your speciality lies in extracting relevant information from provided {context} and delivering clear, concise, and informative responses based on user queries.\n",
    "        \n",
    "        Answer the {question} posed by users regarding the context given to you.\n",
    "        If the user wanted any piece of information in any structured format make sure to provide it.\n",
    "    '''\n",
    "    return prompt"
   ]
  },
  {
   "cell_type": "code",
   "execution_count": 15,
   "id": "1c32092f",
   "metadata": {},
   "outputs": [],
   "source": [
    "user_query = input()"
   ]
  },
  {
   "cell_type": "code",
   "execution_count": 16,
   "id": "2b2d1d0d",
   "metadata": {},
   "outputs": [],
   "source": [
    "context = retriever.invoke(user_query)"
   ]
  },
  {
   "cell_type": "code",
   "execution_count": 17,
   "id": "ab35d5b7",
   "metadata": {},
   "outputs": [
    {
     "data": {
      "text/plain": [
       "[Document(metadata={'source': 'extracted_content.txt'}, page_content='Login with Google Credentials\\nIn a browser, open the URL of your cluster.\\nEU Cluster - https://eu.intouch.capillarytech.com/auth/login\\nSG Cluster - https://apac2.intouch.capillarytech.com/auth/login\\nIndia Cluster - https://intouch.capillary.co.in/auth/login\\nClick on Sign in with Google as shown below.\\nEnter the email ID your Capillary Google Workspace account and click Next.\\nEnter your password and click Next.\\n\\nYou will see Intouch Workbench. If you have already signed in to your Capillary Google Workspace account, you will directly see the Workbech page.\\n\\nLogin with SSO\\n\\nSign in with a single set of credentials used for multiple applications provided by third party like Microsoft ADFS, G Suite SAML. It allows brand users to login to Capillary Intouch using their Identity Provider (IdP).\\n\\nSetup SSO with Okta\\nWe have partnered with Okta for the integration. SSO setup requires configuring a connection for Capillary in Org’s IdP and setting up Org’s Identity in Okta Admin Console.'),\n",
       " Document(metadata={'source': 'extracted_content.txt'}, page_content='Login with Capillary Credentials\\n\\nGet Started with Capillary InTouch! InTouch is a cloud-based platform that contains the entire product modules, including Organization settings and Workbench. InTouch can be accessed by all authorized users and brands. There are several user roles on InTouch and access is managed at the page level. Not everyone will have write access or access to all modules. Super Admins will provide access to users based on their role and scope.\\n\\nEnter the credentials provided by Capillary in Email Id and Password then click on Sign in.\\n\\nLogin with Capillary Google account\\n\\nYou can now sign in to InTouch using your Capillary Google Workspace account.\\nThat means:\\n\\nNo need to remember your Intouch password anymore\\nNo more Intouch password reset every month\\nConvenience and security\\nPrerequisite\\n\\nYou should have a Capillary Google Workspace account (e-mail address with domain capillarytech.com)'),\n",
       " Document(metadata={'source': 'extracted_content.txt'}, page_content=\"The following are the links to different clusters of InTouch:\\n\\nEU: https://eu.intouch.capillarytech.com\\nIndia: https://intouch.capillary.co.in\\nAPAC2: https://apac2.intouch.capillarytech.com/\\nSG: https://sgcrm.cc.capillarytech.com/\\nCN: http://intouch.capillarytech.cn.com/\\nUS: https://us.intouch.capillarytech.com/ & https://north-america.intouch.capillarytech.com\\n\\nYou can access InTouch in three different ways:\\n\\nUsing Capillary InTouch email Id and Password\\nUsing Capillary's Official Google account credentials\\nUsing SSO\\n\\nYou can also enable two-factor authentication (MFA) for your org. To enable this, raise a JIRA ticket with the Capillary Product Support team. If SSO is enabled, Two-factor authentication will not be considered.\\n\\nLogin with Capillary Credentials\"),\n",
       " Document(metadata={'source': 'extracted_content.txt'}, page_content='Step 4 - Authenticate with Single Sign-on\\n\\nOnce setup is completed, the org users can authenticate using SSO as explained in the following steps.\\n\\nOn the new sign-in page, click Sign in with SSO.\\n\\nIn Username, enter a valid email address and click Next.\\nYou are redirected to the Identity provider’s page to complete authentication.\\nOn the Identity Provider’s page, enter your registered email address, password, and click Sign in.\\n\\nWhen the login is successful, you will see the InTouch home page.\\n\\nConfiguring two-factor authentication (MFA)\\n\\nTo enable two-factor authentication, raise a JIRA ticket with the Capillary Product Support team. If SSO is enabled, two-factor authentication will not be required.\\n\\nTo configure the two-factor authentication settings, follow these steps:\\n\\nNavigate to Intouch > Organization Setup > Authentication Configurations.')]"
      ]
     },
     "execution_count": 17,
     "metadata": {},
     "output_type": "execute_result"
    }
   ],
   "source": [
    "context"
   ]
  },
  {
   "cell_type": "code",
   "execution_count": 18,
   "id": "e9c7fca5",
   "metadata": {},
   "outputs": [],
   "source": [
    "response = model.generate_content(\n",
    "    contents=get_prompt(context,user_query)\n",
    ")"
   ]
  },
  {
   "cell_type": "code",
   "execution_count": 19,
   "id": "739c33d2",
   "metadata": {},
   "outputs": [
    {
     "name": "stdout",
     "output_type": "stream",
     "text": [
      "To log in to Capillary Intouch using Google credentials:\n",
      "\n",
      "1. **Open the correct URL:** Go to the URL for your cluster in a web browser:\n",
      "    * **EU Cluster:** `https://eu.intouch.capillarytech.com/auth/login`\n",
      "    * **SG Cluster:** `https://apac2.intouch.capillarytech.com/auth/login`\n",
      "    * **India Cluster:** `https://intouch.capillary.co.in/auth/login`\n",
      "\n",
      "2. **Click \"Sign in with Google\":**  Look for the \"Sign in with Google\" button on the login page.\n",
      "\n",
      "3. **Enter your Capillary Google Workspace email:** Enter the email address associated with your Capillary Google Workspace account.\n",
      "\n",
      "4. **Enter your password:** Enter the password for your Capillary Google Workspace account.\n",
      "\n",
      "5. **Access Intouch Workbench:** After successful authentication, you will be directed to the Intouch Workbench.  If you're already signed in to your Capillary Google Workspace account, you'll go directly to the Workbench page.\n",
      "\n",
      "\n",
      "**Important Note:** You must have a Capillary Google Workspace account (an email address with the domain `capillarytech.com`) to use this method.\n",
      "\n"
     ]
    }
   ],
   "source": [
    "print(response.text)"
   ]
  },
  {
   "cell_type": "markdown",
   "id": "f49f773d",
   "metadata": {},
   "source": [
    "#### *Evaluation*"
   ]
  },
  {
   "cell_type": "code",
   "execution_count": 40,
   "id": "c267d414",
   "metadata": {},
   "outputs": [],
   "source": [
    "from datasets import Dataset\n",
    "\n",
    "data = [\n",
    "    {\n",
    "        \"question\" : user_query,\n",
    "        \"answer\" : response.text,\n",
    "        \"retrieved_contexts\" : [doc.page_content for doc in context]\n",
    "    }\n",
    "]"
   ]
  },
  {
   "cell_type": "code",
   "execution_count": 49,
   "id": "650e3955",
   "metadata": {},
   "outputs": [
    {
     "data": {
      "text/plain": [
       "['Login with Google Credentials\\nIn a browser, open the URL of your cluster.\\nEU Cluster - https://eu.intouch.capillarytech.com/auth/login\\nSG Cluster - https://apac2.intouch.capillarytech.com/auth/login\\nIndia Cluster - https://intouch.capillary.co.in/auth/login\\nClick on Sign in with Google as shown below.\\nEnter the email ID your Capillary Google Workspace account and click Next.\\nEnter your password and click Next.\\n\\nYou will see Intouch Workbench. If you have already signed in to your Capillary Google Workspace account, you will directly see the Workbech page.\\n\\nLogin with SSO\\n\\nSign in with a single set of credentials used for multiple applications provided by third party like Microsoft ADFS, G Suite SAML. It allows brand users to login to Capillary Intouch using their Identity Provider (IdP).\\n\\nSetup SSO with Okta\\nWe have partnered with Okta for the integration. SSO setup requires configuring a connection for Capillary in Org’s IdP and setting up Org’s Identity in Okta Admin Console.',\n",
       " 'Login with Capillary Credentials\\n\\nGet Started with Capillary InTouch! InTouch is a cloud-based platform that contains the entire product modules, including Organization settings and Workbench. InTouch can be accessed by all authorized users and brands. There are several user roles on InTouch and access is managed at the page level. Not everyone will have write access or access to all modules. Super Admins will provide access to users based on their role and scope.\\n\\nEnter the credentials provided by Capillary in Email Id and Password then click on Sign in.\\n\\nLogin with Capillary Google account\\n\\nYou can now sign in to InTouch using your Capillary Google Workspace account.\\nThat means:\\n\\nNo need to remember your Intouch password anymore\\nNo more Intouch password reset every month\\nConvenience and security\\nPrerequisite\\n\\nYou should have a Capillary Google Workspace account (e-mail address with domain capillarytech.com)',\n",
       " \"The following are the links to different clusters of InTouch:\\n\\nEU: https://eu.intouch.capillarytech.com\\nIndia: https://intouch.capillary.co.in\\nAPAC2: https://apac2.intouch.capillarytech.com/\\nSG: https://sgcrm.cc.capillarytech.com/\\nCN: http://intouch.capillarytech.cn.com/\\nUS: https://us.intouch.capillarytech.com/ & https://north-america.intouch.capillarytech.com\\n\\nYou can access InTouch in three different ways:\\n\\nUsing Capillary InTouch email Id and Password\\nUsing Capillary's Official Google account credentials\\nUsing SSO\\n\\nYou can also enable two-factor authentication (MFA) for your org. To enable this, raise a JIRA ticket with the Capillary Product Support team. If SSO is enabled, Two-factor authentication will not be considered.\\n\\nLogin with Capillary Credentials\",\n",
       " 'Step 4 - Authenticate with Single Sign-on\\n\\nOnce setup is completed, the org users can authenticate using SSO as explained in the following steps.\\n\\nOn the new sign-in page, click Sign in with SSO.\\n\\nIn Username, enter a valid email address and click Next.\\nYou are redirected to the Identity provider’s page to complete authentication.\\nOn the Identity Provider’s page, enter your registered email address, password, and click Sign in.\\n\\nWhen the login is successful, you will see the InTouch home page.\\n\\nConfiguring two-factor authentication (MFA)\\n\\nTo enable two-factor authentication, raise a JIRA ticket with the Capillary Product Support team. If SSO is enabled, two-factor authentication will not be required.\\n\\nTo configure the two-factor authentication settings, follow these steps:\\n\\nNavigate to Intouch > Organization Setup > Authentication Configurations.']"
      ]
     },
     "execution_count": 49,
     "metadata": {},
     "output_type": "execute_result"
    }
   ],
   "source": [
    "[doc.page_content for doc in context]"
   ]
  },
  {
   "cell_type": "code",
   "execution_count": 41,
   "id": "e34b05f3",
   "metadata": {},
   "outputs": [],
   "source": [
    "data = Dataset.from_list(data)"
   ]
  },
  {
   "cell_type": "code",
   "execution_count": 48,
   "id": "2eefcfb4",
   "metadata": {},
   "outputs": [
    {
     "data": {
      "text/plain": [
       "[['Login with Google Credentials\\nIn a browser, open the URL of your cluster.\\nEU Cluster - https://eu.intouch.capillarytech.com/auth/login\\nSG Cluster - https://apac2.intouch.capillarytech.com/auth/login\\nIndia Cluster - https://intouch.capillary.co.in/auth/login\\nClick on Sign in with Google as shown below.\\nEnter the email ID your Capillary Google Workspace account and click Next.\\nEnter your password and click Next.\\n\\nYou will see Intouch Workbench. If you have already signed in to your Capillary Google Workspace account, you will directly see the Workbech page.\\n\\nLogin with SSO\\n\\nSign in with a single set of credentials used for multiple applications provided by third party like Microsoft ADFS, G Suite SAML. It allows brand users to login to Capillary Intouch using their Identity Provider (IdP).\\n\\nSetup SSO with Okta\\nWe have partnered with Okta for the integration. SSO setup requires configuring a connection for Capillary in Org’s IdP and setting up Org’s Identity in Okta Admin Console.',\n",
       "  'Login with Capillary Credentials\\n\\nGet Started with Capillary InTouch! InTouch is a cloud-based platform that contains the entire product modules, including Organization settings and Workbench. InTouch can be accessed by all authorized users and brands. There are several user roles on InTouch and access is managed at the page level. Not everyone will have write access or access to all modules. Super Admins will provide access to users based on their role and scope.\\n\\nEnter the credentials provided by Capillary in Email Id and Password then click on Sign in.\\n\\nLogin with Capillary Google account\\n\\nYou can now sign in to InTouch using your Capillary Google Workspace account.\\nThat means:\\n\\nNo need to remember your Intouch password anymore\\nNo more Intouch password reset every month\\nConvenience and security\\nPrerequisite\\n\\nYou should have a Capillary Google Workspace account (e-mail address with domain capillarytech.com)',\n",
       "  \"The following are the links to different clusters of InTouch:\\n\\nEU: https://eu.intouch.capillarytech.com\\nIndia: https://intouch.capillary.co.in\\nAPAC2: https://apac2.intouch.capillarytech.com/\\nSG: https://sgcrm.cc.capillarytech.com/\\nCN: http://intouch.capillarytech.cn.com/\\nUS: https://us.intouch.capillarytech.com/ & https://north-america.intouch.capillarytech.com\\n\\nYou can access InTouch in three different ways:\\n\\nUsing Capillary InTouch email Id and Password\\nUsing Capillary's Official Google account credentials\\nUsing SSO\\n\\nYou can also enable two-factor authentication (MFA) for your org. To enable this, raise a JIRA ticket with the Capillary Product Support team. If SSO is enabled, Two-factor authentication will not be considered.\\n\\nLogin with Capillary Credentials\",\n",
       "  'Step 4 - Authenticate with Single Sign-on\\n\\nOnce setup is completed, the org users can authenticate using SSO as explained in the following steps.\\n\\nOn the new sign-in page, click Sign in with SSO.\\n\\nIn Username, enter a valid email address and click Next.\\nYou are redirected to the Identity provider’s page to complete authentication.\\nOn the Identity Provider’s page, enter your registered email address, password, and click Sign in.\\n\\nWhen the login is successful, you will see the InTouch home page.\\n\\nConfiguring two-factor authentication (MFA)\\n\\nTo enable two-factor authentication, raise a JIRA ticket with the Capillary Product Support team. If SSO is enabled, two-factor authentication will not be required.\\n\\nTo configure the two-factor authentication settings, follow these steps:\\n\\nNavigate to Intouch > Organization Setup > Authentication Configurations.']]"
      ]
     },
     "execution_count": 48,
     "metadata": {},
     "output_type": "execute_result"
    }
   ],
   "source": [
    "data['retrieved_contexts']"
   ]
  },
  {
   "cell_type": "code",
   "execution_count": 50,
   "id": "6b2ded56",
   "metadata": {},
   "outputs": [],
   "source": [
    "from ragas.metrics import answer_relevancy\n",
    "from ragas import evaluate\n",
    "from langchain_groq import ChatGroq"
   ]
  },
  {
   "cell_type": "code",
   "execution_count": 25,
   "id": "c1e50fb8",
   "metadata": {},
   "outputs": [],
   "source": [
    "llm = ChatGroq(model='qwen-qwq-32b',temperature=0.6,api_key=groq_api_key)"
   ]
  },
  {
   "cell_type": "code",
   "execution_count": 51,
   "id": "d8c89739",
   "metadata": {},
   "outputs": [
    {
     "data": {
      "application/vnd.jupyter.widget-view+json": {
       "model_id": "07f9b16ba1a54c1cb09b7c806ff92c22",
       "version_major": 2,
       "version_minor": 0
      },
      "text/plain": [
       "Evaluating:   0%|          | 0/1 [00:00<?, ?it/s]"
      ]
     },
     "metadata": {},
     "output_type": "display_data"
    }
   ],
   "source": [
    "metrics = [answer_relevancy]\n",
    "\n",
    "results = evaluate(dataset=data,\n",
    "                   metrics=metrics,\n",
    "                   embeddings=embeddings,\n",
    "                   llm=llm)"
   ]
  },
  {
   "cell_type": "code",
   "execution_count": 52,
   "id": "99546a08",
   "metadata": {},
   "outputs": [
    {
     "name": "stdout",
     "output_type": "stream",
     "text": [
      "{'answer_relevancy': 0.6659}\n"
     ]
    }
   ],
   "source": [
    "print(results)"
   ]
  }
 ],
 "metadata": {
  "kernelspec": {
   "display_name": "Python 3",
   "language": "python",
   "name": "python3"
  },
  "language_info": {
   "codemirror_mode": {
    "name": "ipython",
    "version": 3
   },
   "file_extension": ".py",
   "mimetype": "text/x-python",
   "name": "python",
   "nbconvert_exporter": "python",
   "pygments_lexer": "ipython3",
   "version": "3.11.4"
  }
 },
 "nbformat": 4,
 "nbformat_minor": 5
}
